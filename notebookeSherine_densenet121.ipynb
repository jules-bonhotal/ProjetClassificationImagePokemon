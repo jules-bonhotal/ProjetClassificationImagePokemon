{
 "cells": [
  {
   "cell_type": "code",
   "execution_count": 1,
   "metadata": {},
   "outputs": [
    {
     "name": "stderr",
     "output_type": "stream",
     "text": [
      "2025-01-19 11:57:42.625393: I tensorflow/core/util/port.cc:153] oneDNN custom operations are on. You may see slightly different numerical results due to floating-point round-off errors from different computation orders. To turn them off, set the environment variable `TF_ENABLE_ONEDNN_OPTS=0`.\n",
      "2025-01-19 11:57:42.625782: I external/local_xla/xla/tsl/cuda/cudart_stub.cc:32] Could not find cuda drivers on your machine, GPU will not be used.\n",
      "2025-01-19 11:57:42.628073: I external/local_xla/xla/tsl/cuda/cudart_stub.cc:32] Could not find cuda drivers on your machine, GPU will not be used.\n",
      "2025-01-19 11:57:42.633409: E external/local_xla/xla/stream_executor/cuda/cuda_fft.cc:477] Unable to register cuFFT factory: Attempting to register factory for plugin cuFFT when one has already been registered\n",
      "WARNING: All log messages before absl::InitializeLog() is called are written to STDERR\n",
      "E0000 00:00:1737284262.642263   25675 cuda_dnn.cc:8310] Unable to register cuDNN factory: Attempting to register factory for plugin cuDNN when one has already been registered\n",
      "E0000 00:00:1737284262.644754   25675 cuda_blas.cc:1418] Unable to register cuBLAS factory: Attempting to register factory for plugin cuBLAS when one has already been registered\n",
      "2025-01-19 11:57:42.655626: I tensorflow/core/platform/cpu_feature_guard.cc:210] This TensorFlow binary is optimized to use available CPU instructions in performance-critical operations.\n",
      "To enable the following instructions: AVX2 AVX512F AVX512_VNNI AVX512_BF16 FMA, in other operations, rebuild TensorFlow with the appropriate compiler flags.\n"
     ]
    }
   ],
   "source": [
    "from tensorflow.keras.applications import DenseNet121\n",
    "from tensorflow.keras.models import Model\n",
    "from tensorflow.keras.layers import GlobalAveragePooling2D, Dense, Dropout\n",
    "from tensorflow.keras.optimizers import Adam\n",
    "from tensorflow.keras.utils import to_categorical\n",
    "from sklearn.utils import class_weight\n",
    "from tensorflow.keras.preprocessing.image import ImageDataGenerator\n",
    "\n",
    "import numpy as np\n",
    "import json\n",
    "import os\n",
    "\n"
   ]
  },
  {
   "cell_type": "code",
   "execution_count": 2,
   "metadata": {},
   "outputs": [
    {
     "name": "stderr",
     "output_type": "stream",
     "text": [
      "2025-01-19 11:57:44.115161: E external/local_xla/xla/stream_executor/cuda/cuda_driver.cc:152] failed call to cuInit: INTERNAL: CUDA error: Failed call to cuInit: UNKNOWN ERROR (303)\n"
     ]
    }
   ],
   "source": [
    "\n",
    "# Charger le modèle DenseNet121 pré-entraîné avec les poids d'ImageNet\n",
    "base_model = DenseNet121(weights='imagenet', include_top=False, input_shape=(224, 224, 3))\n"
   ]
  },
  {
   "cell_type": "code",
   "execution_count": 3,
   "metadata": {},
   "outputs": [],
   "source": [
    "dataset_path = 'Dataset'\n",
    "output_image_size = (224, 224)  # Taille des images (hauteur, largeur)\n",
    "batch_size = 32  # Taille des batchs"
   ]
  },
  {
   "cell_type": "code",
   "execution_count": 4,
   "metadata": {},
   "outputs": [],
   "source": [
    "\n",
    "# Ajouter des couches personnalisées\n",
    "custom_layers = base_model.output\n",
    "custom_layers = GlobalAveragePooling2D()(custom_layers)  # Pooling global pour réduire les dimensions\n",
    "custom_layers = Dense(1024, activation='relu')(custom_layers)  # Couche dense avec 1024 neurones\n",
    "custom_layers = Dropout(0.5)(custom_layers)  # Dropout pour réduire le surapprentissage\n",
    "custom_layers = Dense(512, activation='relu')(custom_layers)  # Une autre couche dense\n",
    "custom_layers = Dropout(0.5)(custom_layers)  # Second Dropout\n",
    "predictions = Dense(151, activation='softmax')(custom_layers)  # Couche de sortie avec 151 classes\n"
   ]
  },
  {
   "cell_type": "code",
   "execution_count": 5,
   "metadata": {},
   "outputs": [],
   "source": [
    "train_datagen = ImageDataGenerator(\n",
    "    rescale=1.0 / 255,  # Normalisation des pixels entre 0 et 1\n",
    "    rotation_range=20,  # Rotation aléatoire jusqu'à 20 degrés\n",
    "    width_shift_range=0.2,  # Décalage horizontal jusqu'à 20%\n",
    "    height_shift_range=0.2,  # Décalage vertical jusqu'à 20%\n",
    "    shear_range=0.2,  # Cisaillement aléatoire\n",
    "    zoom_range=0.2,  # Zoom aléatoire\n",
    "    horizontal_flip=True,  # Flip horizontal\n",
    "    validation_split=0.2  # Fraction des données pour validation\n",
    ")\n"
   ]
  },
  {
   "cell_type": "code",
   "execution_count": 6,
   "metadata": {},
   "outputs": [
    {
     "name": "stdout",
     "output_type": "stream",
     "text": [
      "Found 13194 images belonging to 151 classes.\n"
     ]
    }
   ],
   "source": [
    "train_generator = train_datagen.flow_from_directory(\n",
    "    dataset_path,\n",
    "    target_size=output_image_size,\n",
    "    batch_size=batch_size,\n",
    "    class_mode='categorical',  # 'categorical' pour classification multi-classes\n",
    "    subset='training'  # Sous-ensemble d'entraînement\n",
    ")\n"
   ]
  },
  {
   "cell_type": "code",
   "execution_count": 7,
   "metadata": {},
   "outputs": [
    {
     "name": "stdout",
     "output_type": "stream",
     "text": [
      "Found 3216 images belonging to 151 classes.\n"
     ]
    }
   ],
   "source": [
    "validation_generator = train_datagen.flow_from_directory(\n",
    "    dataset_path,\n",
    "    target_size=output_image_size,\n",
    "    batch_size=batch_size,\n",
    "    class_mode='categorical',  # 'categorical' pour classification multi-classes\n",
    "    subset='validation'  # Sous-ensemble de validation\n",
    ")\n"
   ]
  },
  {
   "cell_type": "code",
   "execution_count": 8,
   "metadata": {},
   "outputs": [],
   "source": [
    "\n",
    "# Créer le modèle final\n",
    "model = Model(inputs=base_model.input, outputs=predictions)\n"
   ]
  },
  {
   "cell_type": "code",
   "execution_count": 9,
   "metadata": {},
   "outputs": [
    {
     "name": "stderr",
     "output_type": "stream",
     "text": [
      "/home/jules/.pyenv/versions/3.11.5/lib/python3.11/site-packages/tqdm/auto.py:21: TqdmWarning: IProgress not found. Please update jupyter and ipywidgets. See https://ipywidgets.readthedocs.io/en/stable/user_install.html\n",
      "  from .autonotebook import tqdm as notebook_tqdm\n"
     ]
    }
   ],
   "source": [
    "from tqdm.auto import tqdm\n",
    "import os\n",
    "import numpy as np\n",
    "from sklearn.utils import class_weight\n",
    "from tensorflow.keras.optimizers import Adam\n",
    "import json\n",
    "import tensorflow as tf\n",
    "\n",
    "def train_DenseNet121(model, train_generator, validation_generator, epochs=20, learning_rate=0.0001, checkpoint_dir='checkpoints'):\n",
    "    \"\"\"\n",
    "    Entraîne et évalue un modèle DenseNet121 avec une barre de progression.\n",
    "    Args:\n",
    "        model: Modèle DenseNet121 personnalisé.\n",
    "        train_generator: Générateur de données d'entraînement.\n",
    "        validation_generator: Générateur de données de validation.\n",
    "        epochs: Nombre d'époques pour l'entraînement.\n",
    "        learning_rate: Taux d'apprentissage pour l'optimiseur Adam.\n",
    "        checkpoint_dir: Répertoire pour sauvegarder les checkpoints.\n",
    "    Returns:\n",
    "        history: Historique de l'entraînement.\n",
    "    \"\"\"\n",
    "    if not os.path.exists(checkpoint_dir):\n",
    "        os.makedirs(checkpoint_dir)\n",
    "    \n",
    "    metrics_file = os.path.join(checkpoint_dir, 'training_metrics.json')\n",
    "    checkpoint_file = os.path.join(checkpoint_dir, 'best_model.h5')\n",
    "\n",
    "    # Calcul des poids des classes\n",
    "    class_weights = class_weight.compute_class_weight(\n",
    "        class_weight='balanced',\n",
    "        classes=np.unique(train_generator.classes),\n",
    "        y=train_generator.classes\n",
    "    )\n",
    "    class_weights = dict(enumerate(class_weights))\n",
    "    print(\"Class weights :\", class_weights)\n",
    "\n",
    "    # Compiler le modèle\n",
    "    model.compile(\n",
    "        optimizer=Adam(learning_rate=learning_rate),\n",
    "        loss='categorical_crossentropy',\n",
    "        metrics=['accuracy']\n",
    "    )\n",
    "\n",
    "    print(\"\\n=== Début de l'entraînement du modèle DenseNet121 ===\\n\")\n",
    "    \n",
    "    best_val_acc = 0\n",
    "    history = {'loss': [], 'accuracy': [], 'val_loss': [], 'val_accuracy': []}\n",
    "    \n",
    "    # Créer un itérateur tqdm pour les époques\n",
    "    epoch_iterator = tqdm(range(epochs), desc=\"Epochs\", position=0)\n",
    "    \n",
    "    for epoch in epoch_iterator:\n",
    "        # Calculer le nombre total de batchs\n",
    "        total_batches = len(train_generator)\n",
    "        \n",
    "        # Créer un callback personnalisé pour mettre à jour la barre de progression\n",
    "        class ProgressCallback(tf.keras.callbacks.Callback):\n",
    "            def __init__(self):\n",
    "                super(ProgressCallback, self).__init__()\n",
    "                self.progress_bar = tqdm(total=total_batches, \n",
    "                                       desc=f\"Epoch {epoch+1}/{epochs}\",\n",
    "                                       position=1, \n",
    "                                       leave=False)\n",
    "                \n",
    "            def on_batch_end(self, batch, logs=None):\n",
    "                self.progress_bar.update(1)\n",
    "                self.progress_bar.set_postfix({\n",
    "                    'loss': f\"{logs['loss']:.4f}\",\n",
    "                    'acc': f\"{logs['accuracy']:.4f}\"\n",
    "                })\n",
    "                \n",
    "            def on_epoch_end(self, epoch, logs=None):\n",
    "                self.progress_bar.close()\n",
    "\n",
    "        # Entraînement avec la barre de progression\n",
    "        train_history = model.fit(\n",
    "            train_generator,\n",
    "            validation_data=validation_generator,\n",
    "            epochs=1,\n",
    "            class_weight=class_weights,\n",
    "            verbose=0,  # Désactiver la sortie par défaut\n",
    "            callbacks=[ProgressCallback()]\n",
    "        )\n",
    "\n",
    "        # Mise à jour de l'historique\n",
    "        history['loss'].append(train_history.history['loss'][0])\n",
    "        history['accuracy'].append(train_history.history['accuracy'][0])\n",
    "        history['val_loss'].append(train_history.history['val_loss'][0])\n",
    "        history['val_accuracy'].append(train_history.history['val_accuracy'][0])\n",
    "\n",
    "        # Mise à jour de la barre de progression principale\n",
    "        epoch_iterator.set_postfix({\n",
    "            'val_acc': f\"{train_history.history['val_accuracy'][0]:.4f}\",\n",
    "            'val_loss': f\"{train_history.history['val_loss'][0]:.4f}\"\n",
    "        })\n",
    "\n",
    "        # Sauvegarde du meilleur modèle\n",
    "        val_acc = train_history.history['val_accuracy'][0]\n",
    "        if val_acc > best_val_acc:\n",
    "            best_val_acc = val_acc\n",
    "            model.save(checkpoint_file)\n",
    "            print(f\"\\nNew best model saved with validation accuracy: {val_acc:.2f}% at epoch {epoch+1}\")\n",
    "\n",
    "        # Sauvegarde des métriques\n",
    "        with open(metrics_file, 'w') as f:\n",
    "            json.dump(history, f)\n",
    "\n",
    "    print(\"\\n=== Fin de l'entraînement ===\\n\")\n",
    "    return history"
   ]
  },
  {
   "cell_type": "code",
   "execution_count": 10,
   "metadata": {},
   "outputs": [
    {
     "name": "stdout",
     "output_type": "stream",
     "text": [
      "Class weights : {0: np.float64(1.820364238410596), 1: np.float64(1.016017249345449), 2: np.float64(1.5886815171583384), 3: np.float64(0.9708609271523179), 4: np.float64(0.7801561021759698), 5: np.float64(0.8737748344370861), 6: np.float64(0.8737748344370861), 7: np.float64(0.9497552548229197), 8: np.float64(0.8483250819777535), 9: np.float64(0.5984759139980041), 10: np.float64(0.6934720908230843), 11: np.float64(0.8166119948010151), 12: np.float64(0.910182119205298), 13: np.float64(1.0402081362346263), 14: np.float64(0.7103860442577936), 15: np.float64(0.8737748344370861), 16: np.float64(1.1202241467142129), 17: np.float64(1.2306687808973042), 18: np.float64(1.2135761589403973), 19: np.float64(0.740487147828039), 20: np.float64(1.0922185430463576), 21: np.float64(1.2849629918192442), 22: np.float64(1.2849629918192442), 23: np.float64(1.1650331125827815), 24: np.float64(1.4324177613722724), 25: np.float64(1.0402081362346263), 26: np.float64(0.891606973915394), 27: np.float64(1.1202241467142129), 28: np.float64(1.1650331125827815), 29: np.float64(1.1202241467142129), 30: np.float64(0.9497552548229197), 31: np.float64(0.9197629836179854), 32: np.float64(1.016017249345449), 33: np.float64(1.6181015452538632), 34: np.float64(0.9817694768956023), 35: np.float64(1.1807768032933597), 36: np.float64(1.1807768032933597), 37: np.float64(1.1060440942241596), 38: np.float64(0.8401681100356597), 39: np.float64(0.9197629836179854), 40: np.float64(0.9708609271523179), 41: np.float64(1.2663403397638928), 42: np.float64(1.5065083352363553), 43: np.float64(1.1202241467142129), 44: np.float64(1.1202241467142129), 45: np.float64(0.9497552548229197), 46: np.float64(1.2306687808973042), 47: np.float64(1.1650331125827815), 48: np.float64(1.5329383060299755), 49: np.float64(0.7598042038583357), 50: np.float64(0.9497552548229197), 51: np.float64(1.1060440942241596), 52: np.float64(1.0787343635025755), 53: np.float64(1.0402081362346263), 54: np.float64(0.8826008428657435), 55: np.float64(1.480974295656078), 56: np.float64(0.929547696209666), 57: np.float64(0.8401681100356597), 58: np.float64(0.9197629836179854), 59: np.float64(1.3442689760570554), 60: np.float64(1.5603122043519395), 61: np.float64(1.4093142490920743), 62: np.float64(1.4324177613722724), 63: np.float64(1.1969518279960083), 64: np.float64(1.1497037295224817), 65: np.float64(1.4324177613722724), 66: np.float64(1.1807768032933597), 67: np.float64(1.5603122043519395), 68: np.float64(0.9395428327280496), 69: np.float64(1.2482497634815515), 70: np.float64(1.1497037295224817), 71: np.float64(1.2663403397638928), 72: np.float64(1.456291390728477), 73: np.float64(1.1807768032933597), 74: np.float64(1.456291390728477), 75: np.float64(1.0922185430463576), 76: np.float64(1.5603122043519395), 77: np.float64(1.2135761589403973), 78: np.float64(1.985851896447923), 79: np.float64(1.2849629918192442), 80: np.float64(1.0527407643820315), 81: np.float64(0.9929259482239615), 82: np.float64(1.2482497634815515), 83: np.float64(1.3239012642986152), 84: np.float64(1.7132839890923257), 85: np.float64(1.3442689760570554), 86: np.float64(1.2135761589403973), 87: np.float64(1.2135761589403973), 88: np.float64(3.4950993377483446), 89: np.float64(4.160832544938505), 90: np.float64(1.480974295656078), 91: np.float64(1.134772512255956), 92: np.float64(1.0527407643820315), 93: np.float64(1.0655790663866904), 94: np.float64(1.1969518279960083), 95: np.float64(1.1202241467142129), 96: np.float64(1.365273178807947), 97: np.float64(1.3442689760570554), 98: np.float64(1.0787343635025755), 99: np.float64(1.5065083352363553), 100: np.float64(1.1497037295224817), 101: np.float64(1.0043388901575703), 102: np.float64(1.016017249345449), 103: np.float64(0.5944046492769293), 104: np.float64(1.4093142490920743), 105: np.float64(0.910182119205298), 106: np.float64(1.016017249345449), 107: np.float64(1.3442689760570554), 108: np.float64(1.1969518279960083), 109: np.float64(1.3239012642986152), 110: np.float64(0.7532541676181777), 111: np.float64(1.0787343635025755), 112: np.float64(0.9708609271523179), 113: np.float64(1.2306687808973042), 114: np.float64(1.1969518279960083), 115: np.float64(1.2849629918192442), 116: np.float64(1.2482497634815515), 117: np.float64(1.365273178807947), 118: np.float64(1.016017249345449), 119: np.float64(1.2663403397638928), 120: np.float64(0.891606973915394), 121: np.float64(0.6721344880285277), 122: np.float64(0.9395428327280496), 123: np.float64(1.6181015452538632), 124: np.float64(0.910182119205298), 125: np.float64(1.3442689760570554), 126: np.float64(1.1650331125827815), 127: np.float64(0.8243158815444208), 128: np.float64(1.1650331125827815), 129: np.float64(0.3849228345537824), 130: np.float64(0.38662603293676373), 131: np.float64(0.8016282884743909), 132: np.float64(0.7871845355289064), 133: np.float64(0.6196984641397774), 134: np.float64(0.8401681100356597), 135: np.float64(0.7801561021759698), 136: np.float64(0.6619506321493076), 137: np.float64(0.8651235984525605), 138: np.float64(0.7598042038583357), 139: np.float64(0.6472406181015452), 140: np.float64(0.6934720908230843), 141: np.float64(0.6424814959096221), 142: np.float64(0.7046571245460371), 143: np.float64(0.6934720908230843), 144: np.float64(0.6826365894039735), 145: np.float64(0.7046571245460371), 146: np.float64(0.6934720908230843), 147: np.float64(0.7221279623446992), 148: np.float64(0.6424814959096221), 149: np.float64(0.5393671817512877), 150: np.float64(0.6990198675496688)}\n",
      "\n",
      "=== Début de l'entraînement du modèle DenseNet121 ===\n",
      "\n"
     ]
    },
    {
     "name": "stderr",
     "output_type": "stream",
     "text": [
      "Epochs:   0%|          | 0/20 [00:00<?, ?it/s]/home/jules/.pyenv/versions/3.11.5/lib/python3.11/site-packages/keras/src/trainers/data_adapters/py_dataset_adapter.py:121: UserWarning: Your `PyDataset` class should call `super().__init__(**kwargs)` in its constructor. `**kwargs` can include `workers`, `use_multiprocessing`, `max_queue_size`. Do not pass these arguments to `fit()`, as they will be ignored.\n",
      "  self._warn_if_super_not_called()\n",
      "/home/jules/.pyenv/versions/3.11.5/lib/python3.11/site-packages/PIL/Image.py:981: UserWarning: Palette images with Transparency expressed in bytes should be converted to RGBA images\n",
      "  warnings.warn(\n",
      "Epochs:   0%|          | 0/20 [16:20<?, ?it/s, val_acc=0.5504, val_loss=2.5416]WARNING:absl:You are saving your model as an HDF5 file via `model.save()` or `keras.saving.save_model(model)`. This file format is considered legacy. We recommend using instead the native Keras format, e.g. `model.save('my_model.keras')` or `keras.saving.save_model(model, 'my_model.keras')`. \n",
      "Epochs:   5%|▌         | 1/20 [16:21<5:10:46, 981.38s/it, val_acc=0.5504, val_loss=2.5416]"
     ]
    },
    {
     "name": "stdout",
     "output_type": "stream",
     "text": [
      "\n",
      "New best model saved with validation accuracy: 0.55% at epoch 1\n"
     ]
    },
    {
     "name": "stderr",
     "output_type": "stream",
     "text": [
      "Epochs:   5%|▌         | 1/20 [31:50<5:10:46, 981.38s/it, val_acc=0.9288, val_loss=0.4264]WARNING:absl:You are saving your model as an HDF5 file via `model.save()` or `keras.saving.save_model(model)`. This file format is considered legacy. We recommend using instead the native Keras format, e.g. `model.save('my_model.keras')` or `keras.saving.save_model(model, 'my_model.keras')`. \n",
      "Epochs:  10%|█         | 2/20 [31:50<4:45:16, 950.93s/it, val_acc=0.9288, val_loss=0.4264]"
     ]
    },
    {
     "name": "stdout",
     "output_type": "stream",
     "text": [
      "\n",
      "New best model saved with validation accuracy: 0.93% at epoch 2\n"
     ]
    },
    {
     "name": "stderr",
     "output_type": "stream",
     "text": [
      "Epochs:  10%|█         | 2/20 [48:30<4:45:16, 950.93s/it, val_acc=0.9683, val_loss=0.1558]WARNING:absl:You are saving your model as an HDF5 file via `model.save()` or `keras.saving.save_model(model)`. This file format is considered legacy. We recommend using instead the native Keras format, e.g. `model.save('my_model.keras')` or `keras.saving.save_model(model, 'my_model.keras')`. \n",
      "Epochs:  15%|█▌        | 3/20 [48:31<4:35:48, 973.43s/it, val_acc=0.9683, val_loss=0.1558]"
     ]
    },
    {
     "name": "stdout",
     "output_type": "stream",
     "text": [
      "\n",
      "New best model saved with validation accuracy: 0.97% at epoch 3\n"
     ]
    },
    {
     "name": "stderr",
     "output_type": "stream",
     "text": [
      "Epochs:  15%|█▌        | 3/20 [1:03:57<4:35:48, 973.43s/it, val_acc=0.9764, val_loss=0.0965]WARNING:absl:You are saving your model as an HDF5 file via `model.save()` or `keras.saving.save_model(model)`. This file format is considered legacy. We recommend using instead the native Keras format, e.g. `model.save('my_model.keras')` or `keras.saving.save_model(model, 'my_model.keras')`. \n",
      "Epochs:  20%|██        | 4/20 [1:03:58<4:14:41, 955.11s/it, val_acc=0.9764, val_loss=0.0965]"
     ]
    },
    {
     "name": "stdout",
     "output_type": "stream",
     "text": [
      "\n",
      "New best model saved with validation accuracy: 0.98% at epoch 4\n"
     ]
    },
    {
     "name": "stderr",
     "output_type": "stream",
     "text": [
      "Epochs:  20%|██        | 4/20 [1:19:42<4:14:41, 955.11s/it, val_acc=0.9801, val_loss=0.0714]WARNING:absl:You are saving your model as an HDF5 file via `model.save()` or `keras.saving.save_model(model)`. This file format is considered legacy. We recommend using instead the native Keras format, e.g. `model.save('my_model.keras')` or `keras.saving.save_model(model, 'my_model.keras')`. \n",
      "Epochs:  25%|██▌       | 5/20 [1:19:42<3:57:47, 951.18s/it, val_acc=0.9801, val_loss=0.0714]"
     ]
    },
    {
     "name": "stdout",
     "output_type": "stream",
     "text": [
      "\n",
      "New best model saved with validation accuracy: 0.98% at epoch 5\n"
     ]
    },
    {
     "name": "stderr",
     "output_type": "stream",
     "text": [
      "Epochs:  25%|██▌       | 5/20 [1:36:12<3:57:47, 951.18s/it, val_acc=0.9857, val_loss=0.0556]WARNING:absl:You are saving your model as an HDF5 file via `model.save()` or `keras.saving.save_model(model)`. This file format is considered legacy. We recommend using instead the native Keras format, e.g. `model.save('my_model.keras')` or `keras.saving.save_model(model, 'my_model.keras')`. \n",
      "Epochs:  30%|███       | 6/20 [1:36:13<3:45:04, 964.63s/it, val_acc=0.9857, val_loss=0.0556]"
     ]
    },
    {
     "name": "stdout",
     "output_type": "stream",
     "text": [
      "\n",
      "New best model saved with validation accuracy: 0.99% at epoch 6\n"
     ]
    },
    {
     "name": "stderr",
     "output_type": "stream",
     "text": [
      "Epochs:  80%|████████  | 16/20 [4:29:41<1:01:08, 917.21s/it, val_acc=0.9866, val_loss=0.0612]WARNING:absl:You are saving your model as an HDF5 file via `model.save()` or `keras.saving.save_model(model)`. This file format is considered legacy. We recommend using instead the native Keras format, e.g. `model.save('my_model.keras')` or `keras.saving.save_model(model, 'my_model.keras')`. \n",
      "Epochs:  85%|████████▌ | 17/20 [4:29:42<46:09, 923.17s/it, val_acc=0.9866, val_loss=0.0612]  "
     ]
    },
    {
     "name": "stdout",
     "output_type": "stream",
     "text": [
      "\n",
      "New best model saved with validation accuracy: 0.99% at epoch 17\n"
     ]
    },
    {
     "name": "stderr",
     "output_type": "stream",
     "text": [
      "Epochs:  85%|████████▌ | 17/20 [4:45:57<46:09, 923.17s/it, val_acc=0.9888, val_loss=0.0610]WARNING:absl:You are saving your model as an HDF5 file via `model.save()` or `keras.saving.save_model(model)`. This file format is considered legacy. We recommend using instead the native Keras format, e.g. `model.save('my_model.keras')` or `keras.saving.save_model(model, 'my_model.keras')`. \n",
      "Epochs:  90%|█████████ | 18/20 [4:45:58<31:18, 939.03s/it, val_acc=0.9888, val_loss=0.0610]"
     ]
    },
    {
     "name": "stdout",
     "output_type": "stream",
     "text": [
      "\n",
      "New best model saved with validation accuracy: 0.99% at epoch 18\n"
     ]
    },
    {
     "name": "stderr",
     "output_type": "stream",
     "text": [
      "Epochs: 100%|██████████| 20/20 [5:16:31<00:00, 949.58s/it, val_acc=0.9742, val_loss=0.0854]"
     ]
    },
    {
     "name": "stdout",
     "output_type": "stream",
     "text": [
      "\n",
      "=== Fin de l'entraînement ===\n",
      "\n"
     ]
    },
    {
     "name": "stderr",
     "output_type": "stream",
     "text": [
      "\n"
     ]
    }
   ],
   "source": [
    "\n",
    "# Appel de la fonction d'entraînement\n",
    "history = train_DenseNet121(model, train_generator, validation_generator, epochs=20, learning_rate=0.0001)\n"
   ]
  },
  {
   "cell_type": "code",
   "execution_count": 11,
   "metadata": {},
   "outputs": [
    {
     "name": "stdout",
     "output_type": "stream",
     "text": [
      "101/101 - 49s - 480ms/step - accuracy: 0.9745 - loss: 0.1015\n",
      "Précision finale sur l'ensemble de validation : 97.45%\n",
      "Perte finale sur l'ensemble de validation : 0.1015\n"
     ]
    }
   ],
   "source": [
    "\n",
    "# Évaluation finale\n",
    "test_loss, test_accuracy = model.evaluate(validation_generator, verbose=2)\n",
    "print(f\"Précision finale sur l'ensemble de validation : {test_accuracy * 100:.2f}%\")\n",
    "print(f\"Perte finale sur l'ensemble de validation : {test_loss:.4f}\")\n"
   ]
  },
  {
   "cell_type": "code",
   "execution_count": 13,
   "metadata": {},
   "outputs": [
    {
     "name": "stdout",
     "output_type": "stream",
     "text": [
      "Le modèle a été sauvegardé sous le nom : DenseNet121_modele_entraine.h5\n"
     ]
    }
   ],
   "source": [
    "\n",
    "\n",
    "# Sauvegarder le modèle final\n",
    "model.save('DenseNet121_modele_entraine.keras')\n",
    "print(\"Le modèle a été sauvegardé sous le nom : DenseNet121_modele_entraine.h5\")"
   ]
  },
  {
   "cell_type": "code",
   "execution_count": 14,
   "metadata": {},
   "outputs": [
    {
     "name": "stdout",
     "output_type": "stream",
     "text": [
      "Evaluating model performance...\n"
     ]
    },
    {
     "name": "stderr",
     "output_type": "stream",
     "text": [
      " 29%|██▊       | 29/101 [00:24<00:54,  1.33it/s]/home/jules/.pyenv/versions/3.11.5/lib/python3.11/site-packages/PIL/Image.py:981: UserWarning: Palette images with Transparency expressed in bytes should be converted to RGBA images\n",
      "  warnings.warn(\n",
      "100%|██████████| 101/101 [01:21<00:00,  1.25it/s]"
     ]
    },
    {
     "name": "stdout",
     "output_type": "stream",
     "text": [
      "\n",
      "Précision globale : 97.82%\n",
      "\n",
      "Rapport de classification :\n",
      "\n",
      "              precision    recall  f1-score   support\n",
      "\n",
      "        Abra       1.00      1.00      1.00        11\n",
      "  Aerodactyl       1.00      0.95      0.98        21\n",
      "    Alakazam       0.92      0.92      0.92        13\n",
      "       Arbok       1.00      1.00      1.00        22\n",
      "    Arcanine       1.00      1.00      1.00        27\n",
      "    Articuno       1.00      1.00      1.00        25\n",
      "    Beedrill       1.00      1.00      1.00        25\n",
      "  Bellsprout       1.00      1.00      1.00        23\n",
      "   Blastoise       0.96      1.00      0.98        25\n",
      "   Bulbasaur       1.00      1.00      1.00        36\n",
      "  Butterfree       1.00      1.00      1.00        31\n",
      "    Caterpie       1.00      1.00      1.00        26\n",
      "     Chansey       1.00      1.00      1.00        23\n",
      "   Charizard       1.00      1.00      1.00        21\n",
      "  Charmander       1.00      0.97      0.98        30\n",
      "  Charmeleon       0.92      1.00      0.96        24\n",
      "    Clefable       1.00      1.00      1.00        19\n",
      "    Clefairy       1.00      1.00      1.00        17\n",
      "    Cloyster       1.00      1.00      1.00        17\n",
      "      Cubone       1.00      0.93      0.96        29\n",
      "     Dewgong       1.00      1.00      1.00        20\n",
      "     Diglett       1.00      1.00      1.00        17\n",
      "       Ditto       1.00      1.00      1.00        16\n",
      "      Dodrio       1.00      1.00      1.00        18\n",
      "       Doduo       1.00      1.00      1.00        15\n",
      "   Dragonair       1.00      1.00      1.00        20\n",
      "   Dragonite       1.00      1.00      1.00        24\n",
      "     Dratini       1.00      1.00      1.00        19\n",
      "     Drowzee       0.90      1.00      0.95        18\n",
      "     Dugtrio       1.00      1.00      1.00        19\n",
      "       Eevee       1.00      1.00      1.00        22\n",
      "       Ekans       1.00      1.00      1.00        23\n",
      "  Electabuzz       1.00      1.00      1.00        21\n",
      "   Electrode       0.93      1.00      0.96        13\n",
      "   Exeggcute       1.00      1.00      1.00        22\n",
      "   Exeggutor       0.89      0.94      0.92        18\n",
      "  Farfetch'd       1.00      1.00      1.00        18\n",
      "      Fearow       0.90      0.95      0.92        19\n",
      "     Flareon       1.00      0.96      0.98        25\n",
      "      Gastly       0.96      1.00      0.98        23\n",
      "      Gengar       0.96      1.00      0.98        22\n",
      "     Geodude       1.00      1.00      1.00        17\n",
      "       Gloom       1.00      1.00      1.00        14\n",
      "      Golbat       1.00      1.00      1.00        19\n",
      "     Goldeen       1.00      1.00      1.00        19\n",
      "     Golduck       1.00      1.00      1.00        22\n",
      "       Golem       1.00      1.00      1.00        17\n",
      "    Graveler       1.00      1.00      1.00        18\n",
      "      Grimer       0.61      1.00      0.76        14\n",
      "   Growlithe       1.00      1.00      1.00        28\n",
      "    Gyarados       1.00      1.00      1.00        22\n",
      "     Haunter       1.00      1.00      1.00        19\n",
      "  Hitmonchan       1.00      1.00      1.00        20\n",
      "   Hitmonlee       1.00      1.00      1.00        20\n",
      "      Horsea       1.00      1.00      1.00        24\n",
      "       Hypno       1.00      0.86      0.92        14\n",
      "     Ivysaur       0.82      1.00      0.90        23\n",
      "  Jigglypuff       1.00      1.00      1.00        26\n",
      "     Jolteon       1.00      1.00      1.00        23\n",
      "        Jynx       1.00      1.00      1.00        16\n",
      "      Kabuto       1.00      1.00      1.00        14\n",
      "    Kabutops       1.00      1.00      1.00        15\n",
      "     Kadabra       0.93      0.93      0.93        15\n",
      "      Kakuna       1.00      0.94      0.97        18\n",
      "  Kangaskhan       1.00      1.00      1.00        18\n",
      "     Kingler       0.75      1.00      0.86        15\n",
      "     Koffing       1.00      0.89      0.94        18\n",
      "      Krabby       1.00      0.64      0.78        14\n",
      "      Lapras       1.00      0.96      0.98        23\n",
      "   Lickitung       1.00      1.00      1.00        17\n",
      "     Machamp       1.00      0.95      0.97        19\n",
      "     Machoke       1.00      1.00      1.00        17\n",
      "      Machop       0.93      1.00      0.97        14\n",
      "    Magikarp       1.00      1.00      1.00        18\n",
      "      Magmar       0.93      1.00      0.97        14\n",
      "   Magnemite       1.00      1.00      1.00        20\n",
      "    Magneton       1.00      1.00      1.00        13\n",
      "      Mankey       1.00      1.00      1.00        17\n",
      "     Marowak       0.85      1.00      0.92        11\n",
      "      Meowth       0.94      1.00      0.97        17\n",
      "     Metapod       0.95      1.00      0.98        20\n",
      "         Mew       1.00      0.95      0.98        21\n",
      "      Mewtwo       0.94      1.00      0.97        17\n",
      "     Moltres       1.00      0.94      0.97        16\n",
      "    Mr. Mime       0.92      1.00      0.96        12\n",
      "         Muk       1.00      0.44      0.61        16\n",
      "    Nidoking       1.00      1.00      1.00        17\n",
      "   Nidoqueen       1.00      0.94      0.97        17\n",
      "    NidoranF       0.83      0.83      0.83         6\n",
      "    NidoranM       0.50      0.20      0.29         5\n",
      "    Nidorina       0.93      0.93      0.93        14\n",
      "    Nidorino       0.82      0.95      0.88        19\n",
      "   Ninetales       1.00      1.00      1.00        20\n",
      "      Oddish       1.00      1.00      1.00        20\n",
      "     Omanyte       1.00      1.00      1.00        18\n",
      "     Omastar       1.00      1.00      1.00        19\n",
      "        Onix       0.94      1.00      0.97        16\n",
      "       Paras       1.00      1.00      1.00        16\n",
      "    Parasect       1.00      0.95      0.97        20\n",
      "     Persian       1.00      1.00      1.00        14\n",
      "     Pidgeot       1.00      0.89      0.94        18\n",
      "   Pidgeotto       0.91      1.00      0.95        21\n",
      "      Pidgey       1.00      1.00      1.00        21\n",
      "     Pikachu       1.00      1.00      1.00        36\n",
      "      Pinsir       1.00      1.00      1.00        15\n",
      "     Poliwag       1.00      1.00      1.00        23\n",
      "   Poliwhirl       0.81      1.00      0.89        21\n",
      "   Poliwrath       1.00      0.69      0.81        16\n",
      "      Ponyta       0.95      1.00      0.97        18\n",
      "     Porygon       1.00      1.00      1.00        16\n",
      "    Primeape       1.00      1.00      1.00        28\n",
      "     Psyduck       1.00      1.00      1.00        20\n",
      "      Raichu       1.00      1.00      1.00        22\n",
      "    Rapidash       1.00      1.00      1.00        17\n",
      "    Raticate       1.00      1.00      1.00        18\n",
      "     Rattata       1.00      1.00      1.00        16\n",
      "      Rhydon       0.89      1.00      0.94        17\n",
      "     Rhyhorn       1.00      1.00      1.00        15\n",
      "   Sandshrew       0.91      1.00      0.95        21\n",
      "   Sandslash       1.00      1.00      1.00        17\n",
      "     Scyther       1.00      1.00      1.00        24\n",
      "      Seadra       1.00      1.00      1.00        32\n",
      "     Seaking       1.00      1.00      1.00        23\n",
      "        Seel       1.00      1.00      1.00        13\n",
      "    Shellder       1.00      0.96      0.98        24\n",
      "     Slowbro       1.00      0.81      0.90        16\n",
      "    Slowpoke       1.00      1.00      1.00        18\n",
      "     Snorlax       1.00      1.00      1.00        26\n",
      "     Spearow       1.00      1.00      1.00        18\n",
      "    Squirtle       0.96      0.98      0.97        56\n",
      "     Starmie       0.96      0.98      0.97        56\n",
      "      Staryu       0.96      0.89      0.92        27\n",
      "     Tangela       1.00      1.00      1.00        27\n",
      "      Tauros       1.00      1.00      1.00        35\n",
      "   Tentacool       1.00      0.96      0.98        25\n",
      "  Tentacruel       1.00      1.00      1.00        28\n",
      "    Vaporeon       1.00      0.97      0.98        32\n",
      "    Venomoth       1.00      1.00      1.00        25\n",
      "     Venonat       1.00      1.00      1.00        28\n",
      "    Venusaur       1.00      0.85      0.92        33\n",
      "  Victreebel       1.00      0.94      0.97        31\n",
      "   Vileplume       1.00      1.00      1.00        34\n",
      "     Voltorb       1.00      0.97      0.98        30\n",
      "      Vulpix       0.97      1.00      0.98        31\n",
      "   Wartortle       1.00      1.00      1.00        31\n",
      "      Weedle       0.97      1.00      0.98        30\n",
      "  Weepinbell       1.00      1.00      1.00        31\n",
      "     Weezing       0.94      0.97      0.95        30\n",
      "  Wigglytuff       1.00      1.00      1.00        33\n",
      "      Zapdos       1.00      0.95      0.97        40\n",
      "       Zubat       1.00      1.00      1.00        31\n",
      "\n",
      "    accuracy                           0.98      3216\n",
      "   macro avg       0.97      0.97      0.97      3216\n",
      "weighted avg       0.98      0.98      0.98      3216\n",
      "\n",
      "\n",
      "Précision par classe :\n",
      "\n",
      "Abra: 100.00%\n",
      "Aerodactyl: 95.24%\n",
      "Alakazam: 92.31%\n",
      "Arbok: 100.00%\n",
      "Arcanine: 100.00%\n",
      "Articuno: 100.00%\n",
      "Beedrill: 100.00%\n",
      "Bellsprout: 100.00%\n",
      "Blastoise: 100.00%\n",
      "Bulbasaur: 100.00%\n",
      "Butterfree: 100.00%\n",
      "Caterpie: 100.00%\n",
      "Chansey: 100.00%\n",
      "Charizard: 100.00%\n",
      "Charmander: 96.67%\n",
      "Charmeleon: 100.00%\n",
      "Clefable: 100.00%\n",
      "Clefairy: 100.00%\n",
      "Cloyster: 100.00%\n",
      "Cubone: 93.10%\n",
      "Dewgong: 100.00%\n",
      "Diglett: 100.00%\n",
      "Ditto: 100.00%\n",
      "Dodrio: 100.00%\n",
      "Doduo: 100.00%\n",
      "Dragonair: 100.00%\n",
      "Dragonite: 100.00%\n",
      "Dratini: 100.00%\n",
      "Drowzee: 100.00%\n",
      "Dugtrio: 100.00%\n",
      "Eevee: 100.00%\n",
      "Ekans: 100.00%\n",
      "Electabuzz: 100.00%\n",
      "Electrode: 100.00%\n",
      "Exeggcute: 100.00%\n",
      "Exeggutor: 94.44%\n",
      "Farfetch'd: 100.00%\n",
      "Fearow: 94.74%\n",
      "Flareon: 96.00%\n",
      "Gastly: 100.00%\n",
      "Gengar: 100.00%\n",
      "Geodude: 100.00%\n",
      "Gloom: 100.00%\n",
      "Golbat: 100.00%\n",
      "Goldeen: 100.00%\n",
      "Golduck: 100.00%\n",
      "Golem: 100.00%\n",
      "Graveler: 100.00%\n",
      "Grimer: 100.00%\n",
      "Growlithe: 100.00%\n",
      "Gyarados: 100.00%\n",
      "Haunter: 100.00%\n",
      "Hitmonchan: 100.00%\n",
      "Hitmonlee: 100.00%\n",
      "Horsea: 100.00%\n",
      "Hypno: 85.71%\n",
      "Ivysaur: 100.00%\n",
      "Jigglypuff: 100.00%\n",
      "Jolteon: 100.00%\n",
      "Jynx: 100.00%\n",
      "Kabuto: 100.00%\n",
      "Kabutops: 100.00%\n",
      "Kadabra: 93.33%\n",
      "Kakuna: 94.44%\n",
      "Kangaskhan: 100.00%\n",
      "Kingler: 100.00%\n",
      "Koffing: 88.89%\n",
      "Krabby: 64.29%\n",
      "Lapras: 95.65%\n",
      "Lickitung: 100.00%\n",
      "Machamp: 94.74%\n",
      "Machoke: 100.00%\n",
      "Machop: 100.00%\n",
      "Magikarp: 100.00%\n",
      "Magmar: 100.00%\n",
      "Magnemite: 100.00%\n",
      "Magneton: 100.00%\n",
      "Mankey: 100.00%\n",
      "Marowak: 100.00%\n",
      "Meowth: 100.00%\n",
      "Metapod: 100.00%\n",
      "Mew: 95.24%\n",
      "Mewtwo: 100.00%\n",
      "Moltres: 93.75%\n",
      "Mr. Mime: 100.00%\n",
      "Muk: 43.75%\n",
      "Nidoking: 100.00%\n",
      "Nidoqueen: 94.12%\n",
      "NidoranF: 83.33%\n",
      "NidoranM: 20.00%\n",
      "Nidorina: 92.86%\n",
      "Nidorino: 94.74%\n",
      "Ninetales: 100.00%\n",
      "Oddish: 100.00%\n",
      "Omanyte: 100.00%\n",
      "Omastar: 100.00%\n",
      "Onix: 100.00%\n",
      "Paras: 100.00%\n",
      "Parasect: 95.00%\n",
      "Persian: 100.00%\n",
      "Pidgeot: 88.89%\n",
      "Pidgeotto: 100.00%\n",
      "Pidgey: 100.00%\n",
      "Pikachu: 100.00%\n",
      "Pinsir: 100.00%\n",
      "Poliwag: 100.00%\n",
      "Poliwhirl: 100.00%\n",
      "Poliwrath: 68.75%\n",
      "Ponyta: 100.00%\n",
      "Porygon: 100.00%\n",
      "Primeape: 100.00%\n",
      "Psyduck: 100.00%\n",
      "Raichu: 100.00%\n",
      "Rapidash: 100.00%\n",
      "Raticate: 100.00%\n",
      "Rattata: 100.00%\n",
      "Rhydon: 100.00%\n",
      "Rhyhorn: 100.00%\n",
      "Sandshrew: 100.00%\n",
      "Sandslash: 100.00%\n",
      "Scyther: 100.00%\n",
      "Seadra: 100.00%\n",
      "Seaking: 100.00%\n",
      "Seel: 100.00%\n",
      "Shellder: 95.83%\n",
      "Slowbro: 81.25%\n",
      "Slowpoke: 100.00%\n",
      "Snorlax: 100.00%\n",
      "Spearow: 100.00%\n",
      "Squirtle: 98.21%\n",
      "Starmie: 98.21%\n",
      "Staryu: 88.89%\n",
      "Tangela: 100.00%\n",
      "Tauros: 100.00%\n",
      "Tentacool: 96.00%\n",
      "Tentacruel: 100.00%\n",
      "Vaporeon: 96.88%\n",
      "Venomoth: 100.00%\n",
      "Venonat: 100.00%\n",
      "Venusaur: 84.85%\n",
      "Victreebel: 93.55%\n",
      "Vileplume: 100.00%\n",
      "Voltorb: 96.67%\n",
      "Vulpix: 100.00%\n",
      "Wartortle: 100.00%\n",
      "Weedle: 100.00%\n",
      "Weepinbell: 100.00%\n",
      "Weezing: 96.67%\n",
      "Wigglytuff: 100.00%\n",
      "Zapdos: 95.00%\n",
      "Zubat: 100.00%\n"
     ]
    },
    {
     "name": "stderr",
     "output_type": "stream",
     "text": [
      "\n"
     ]
    }
   ],
   "source": [
    "from sklearn.metrics import accuracy_score, classification_report\n",
    "import numpy as np\n",
    "from tqdm.auto import tqdm\n",
    "\n",
    "def analyze_model_performance(validation_generator, trained_model):\n",
    "    \"\"\"\n",
    "    Analyse les performances du modèle sur le générateur de validation.\n",
    "    \n",
    "    Parameters:\n",
    "        validation_generator: ImageDataGenerator pour la validation\n",
    "        trained_model: Modèle DenseNet121 entraîné\n",
    "    \"\"\"\n",
    "    # Get class names from the generator\n",
    "    class_names = list(validation_generator.class_indices.keys())\n",
    "    \n",
    "    # Initialize arrays for predictions and true labels\n",
    "    predictions = []\n",
    "    true_labels = []\n",
    "    \n",
    "    print(\"Evaluating model performance...\")\n",
    "    \n",
    "    # Predict on validation data\n",
    "    steps = validation_generator.n // validation_generator.batch_size + 1\n",
    "    for i in tqdm(range(steps)):\n",
    "        try:\n",
    "            # Get batch\n",
    "            x, y = next(validation_generator)\n",
    "            # Get predictions\n",
    "            batch_predictions = trained_model.predict(x, verbose=0)\n",
    "            # Store results\n",
    "            predictions.extend(batch_predictions)\n",
    "            true_labels.extend(y)\n",
    "        except StopIteration:\n",
    "            break\n",
    "    \n",
    "    # Convert to numpy arrays\n",
    "    predictions = np.array(predictions)\n",
    "    true_labels = np.array(true_labels)\n",
    "    \n",
    "    # Get predicted and true classes\n",
    "    predicted_classes = np.argmax(predictions, axis=1)\n",
    "    true_classes = np.argmax(true_labels, axis=1)\n",
    "    \n",
    "    # Calculate and display overall accuracy\n",
    "    overall_accuracy = accuracy_score(true_classes, predicted_classes)\n",
    "    print(f'\\nPrécision globale : {overall_accuracy * 100:.2f}%')\n",
    "    \n",
    "    # Generate and display classification report\n",
    "    report = classification_report(true_classes, predicted_classes, \n",
    "                                 target_names=class_names)\n",
    "    print(\"\\nRapport de classification :\\n\")\n",
    "    print(report)\n",
    "    \n",
    "    # Calculate and display per-class accuracy\n",
    "    print(\"\\nPrécision par classe :\\n\")\n",
    "    class_accuracy = {}\n",
    "    for idx, class_name in enumerate(class_names):\n",
    "        class_indices = [i for i, true_label in enumerate(true_classes) \n",
    "                        if true_label == idx]\n",
    "        if class_indices:\n",
    "            correct_for_class = accuracy_score(\n",
    "                [true_classes[i] for i in class_indices],\n",
    "                [predicted_classes[i] for i in class_indices]\n",
    "            )\n",
    "            class_accuracy[class_name] = correct_for_class\n",
    "            print(f'{class_name}: {correct_for_class * 100:.2f}%')\n",
    "\n",
    "# Usage\n",
    "analyze_model_performance(validation_generator, model)"
   ]
  },
  {
   "cell_type": "code",
   "execution_count": 20,
   "metadata": {},
   "outputs": [
    {
     "name": "stdout",
     "output_type": "stream",
     "text": [
      "Warning: Could not load seaborn style, using default style\n"
     ]
    },
    {
     "data": {
      "image/png": "[encoded data removed]",
      "text/plain": [
       "<Figure size 1200x500 with 2 Axes>"
      ]
     },
     "metadata": {},
     "output_type": "display_data"
    }
   ],
   "source": [
    "import matplotlib.pyplot as plt\n",
    "import numpy as np\n",
    "\n",
    "def plot_training_curves(history, model_name):\n",
    "    \"\"\"\n",
    "    Trace les courbes d'apprentissage à partir de l'historique d'entraînement.\n",
    "    \n",
    "    Args:\n",
    "        history (dict): Historique d'entraînement contenant loss, accuracy, val_loss, val_accuracy\n",
    "        model_name (str): Nom du modèle pour les titres\n",
    "    \"\"\"\n",
    "    try:\n",
    "        plt.style.use('seaborn')  # Changed from 'seaborn-dark' to 'seaborn'\n",
    "    except:\n",
    "        print(\"Warning: Could not load seaborn style, using default style\")\n",
    "    \n",
    "    plt.figure(figsize=(12, 5))\n",
    "\n",
    "    # Subplot pour la courbe de perte\n",
    "    plt.subplot(1, 2, 1)\n",
    "    plt.plot(history['loss'], label=f'Entraînement', linewidth=2)\n",
    "    plt.plot(history['val_loss'], label=f'Validation', linewidth=2)\n",
    "    plt.title(f'Perte - {model_name}', fontsize=12, pad=10)\n",
    "    plt.xlabel('Époques', fontsize=10)\n",
    "    plt.ylabel('Perte', fontsize=10)\n",
    "    plt.grid(True, linestyle='--', alpha=0.7)\n",
    "    plt.legend(fontsize=10)\n",
    "\n",
    "    # Subplot pour la courbe de précision\n",
    "    plt.subplot(1, 2, 2)\n",
    "    plt.plot(history['accuracy'], label=f'Entraînement', linewidth=2)\n",
    "    plt.plot(history['val_accuracy'], label=f'Validation', linewidth=2)\n",
    "    plt.title(f'Précision - {model_name}', fontsize=12, pad=10)\n",
    "    plt.xlabel('Époques', fontsize=10)\n",
    "    plt.ylabel('Précision', fontsize=10)\n",
    "    plt.grid(True, linestyle='--', alpha=0.7)\n",
    "    plt.legend(fontsize=10)\n",
    "\n",
    "    plt.tight_layout()\n",
    "    plt.show()\n",
    "\n",
    "# Utilisation\n",
    "plot_training_curves(history, 'DenseNet121')"
   ]
  }
 ],
 "metadata": {
  "kernelspec": {
   "display_name": "3.11.5",
   "language": "python",
   "name": "python3"
  },
  "language_info": {
   "codemirror_mode": {
    "name": "ipython",
    "version": 3
   },
   "file_extension": ".py",
   "mimetype": "text/x-python",
   "name": "python",
   "nbconvert_exporter": "python",
   "pygments_lexer": "ipython3",
   "version": "3.11.5"
  }
 },
 "nbformat": 4,
 "nbformat_minor": 2
}
