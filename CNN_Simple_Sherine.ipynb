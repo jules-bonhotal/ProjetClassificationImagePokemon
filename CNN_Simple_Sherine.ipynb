{
  "nbformat": 4,
  "nbformat_minor": 0,
  "metadata": {
    "colab": {
      "provenance": []
    },
    "kernelspec": {
      "name": "python3",
      "display_name": "Python 3"
    },
    "language_info": {
      "name": "python"
    }
  },
  "cells": [
    {
      "cell_type": "markdown",
      "source": [
        "**Connexion à Google Drive pour accéder a la Dataset**"
      ],
      "metadata": {
        "id": "Zep6LPVqC2IH"
      }
    },
    {
      "cell_type": "code",
      "execution_count": 19,
      "metadata": {
        "colab": {
          "base_uri": "https://localhost:8080/"
        },
        "id": "puclZ988gj3-",
        "outputId": "56b2da58-06f0-474f-d6ba-e4211ee8cfc9"
      },
      "outputs": [
        {
          "output_type": "stream",
          "name": "stdout",
          "text": [
            "Drive already mounted at /content/drive; to attempt to forcibly remount, call drive.mount(\"/content/drive\", force_remount=True).\n"
          ]
        }
      ],
      "source": [
        "from google.colab import drive\n",
        "drive.mount('/content/drive')"
      ]
    },
    {
      "cell_type": "markdown",
      "source": [
        "**Importation des bibliothèques nécessaires**\n"
      ],
      "metadata": {
        "id": "C1KnZbkhC-GK"
      }
    },
    {
      "cell_type": "code",
      "source": [
        "import tensorflow as tf\n",
        "from tensorflow.keras.layers import Conv2D, MaxPooling2D, Flatten, Dense\n",
        "from tensorflow.keras.preprocessing.image import ImageDataGenerator\n",
        "import numpy as np\n",
        "import matplotlib.pyplot as plt\n",
        "from tensorflow.keras.optimizers import Adam\n",
        "from sklearn.metrics import accuracy_score, classification_report\n",
        "import warnings"
      ],
      "metadata": {
        "id": "7XXkK6tphCgO"
      },
      "execution_count": 20,
      "outputs": []
    },
    {
      "cell_type": "markdown",
      "source": [
        "**Chemins et paramètres de base**\n"
      ],
      "metadata": {
        "id": "YTiVp8jKDClk"
      }
    },
    {
      "cell_type": "code",
      "source": [
        "dataset_path = '/content/drive/My Drive/Dataset/Dataset'\n",
        "output_image_size = (224, 224)  # Taille des images (hauteur, largeur)\n",
        "batch_size = 32  # Taille des batchs"
      ],
      "metadata": {
        "id": "2tzJpI7whFcm"
      },
      "execution_count": 21,
      "outputs": []
    },
    {
      "cell_type": "markdown",
      "source": [
        "**Générateur de données pour l'augmentation d'images**\n"
      ],
      "metadata": {
        "id": "vfspUTbLDGZs"
      }
    },
    {
      "cell_type": "code",
      "source": [
        "# Générateur de données avec augmentation\n",
        "train_datagen = ImageDataGenerator(\n",
        "    rescale=1.0 / 255,  # Normalisation des pixels entre 0 et 1\n",
        "    rotation_range=20,  # Rotation aléatoire jusqu'à 20 degrés\n",
        "    width_shift_range=0.2,  # Décalage horizontal jusqu'à 20%\n",
        "    height_shift_range=0.2,  # Décalage vertical jusqu'à 20%\n",
        "    shear_range=0.2,  # Cisaillement aléatoire\n",
        "    zoom_range=0.2,  # Zoom aléatoire\n",
        "    horizontal_flip=True,  # Flip horizontal\n",
        "    validation_split=0.2  # Fraction des données pour validation\n",
        ")\n"
      ],
      "metadata": {
        "id": "m5ELuGqEhIIq"
      },
      "execution_count": 22,
      "outputs": []
    },
    {
      "cell_type": "markdown",
      "source": [
        "**Générateur pour les données d'entraînement**"
      ],
      "metadata": {
        "id": "L4B8Qi2SDsa1"
      }
    },
    {
      "cell_type": "code",
      "source": [
        "# Générateur pour les données d'entraînement\n",
        "train_generator = train_datagen.flow_from_directory(\n",
        "    dataset_path,\n",
        "    target_size=output_image_size,\n",
        "    batch_size=batch_size,\n",
        "    class_mode='categorical',  # 'categorical' pour classification multi-classes\n",
        "    subset='training'  # Sous-ensemble d'entraînement\n",
        ")"
      ],
      "metadata": {
        "colab": {
          "base_uri": "https://localhost:8080/"
        },
        "id": "8-r0PjXYhLRQ",
        "outputId": "f8bea75a-a6c0-4cfc-8244-ac6e3fccb943"
      },
      "execution_count": 23,
      "outputs": [
        {
          "output_type": "stream",
          "name": "stdout",
          "text": [
            "Found 13194 images belonging to 151 classes.\n"
          ]
        }
      ]
    },
    {
      "cell_type": "markdown",
      "source": [
        "**Générateur pour les données de validation**"
      ],
      "metadata": {
        "id": "GmoOFtATDu7l"
      }
    },
    {
      "cell_type": "code",
      "execution_count": 24,
      "metadata": {
        "colab": {
          "base_uri": "https://localhost:8080/"
        },
        "id": "_abSoT1VUDBL",
        "outputId": "e02dcc3d-35b5-4ac4-d8eb-eb3ee4dad291"
      },
      "outputs": [
        {
          "output_type": "stream",
          "name": "stdout",
          "text": [
            "Found 3216 images belonging to 151 classes.\n",
            "Classes trouvées : {'Abra': 0, 'Aerodactyl': 1, 'Alakazam': 2, 'Arbok': 3, 'Arcanine': 4, 'Articuno': 5, 'Beedrill': 6, 'Bellsprout': 7, 'Blastoise': 8, 'Bulbasaur': 9, 'Butterfree': 10, 'Caterpie': 11, 'Chansey': 12, 'Charizard': 13, 'Charmander': 14, 'Charmeleon': 15, 'Clefable': 16, 'Clefairy': 17, 'Cloyster': 18, 'Cubone': 19, 'Dewgong': 20, 'Diglett': 21, 'Ditto': 22, 'Dodrio': 23, 'Doduo': 24, 'Dragonair': 25, 'Dragonite': 26, 'Dratini': 27, 'Drowzee': 28, 'Dugtrio': 29, 'Eevee': 30, 'Ekans': 31, 'Electabuzz': 32, 'Electrode': 33, 'Exeggcute': 34, 'Exeggutor': 35, \"Farfetch'd\": 36, 'Fearow': 37, 'Flareon': 38, 'Gastly': 39, 'Gengar': 40, 'Geodude': 41, 'Gloom': 42, 'Golbat': 43, 'Goldeen': 44, 'Golduck': 45, 'Golem': 46, 'Graveler': 47, 'Grimer': 48, 'Growlithe': 49, 'Gyarados': 50, 'Haunter': 51, 'Hitmonchan': 52, 'Hitmonlee': 53, 'Horsea': 54, 'Hypno': 55, 'Ivysaur': 56, 'Jigglypuff': 57, 'Jolteon': 58, 'Jynx': 59, 'Kabuto': 60, 'Kabutops': 61, 'Kadabra': 62, 'Kakuna': 63, 'Kangaskhan': 64, 'Kingler': 65, 'Koffing': 66, 'Krabby': 67, 'Lapras': 68, 'Lickitung': 69, 'Machamp': 70, 'Machoke': 71, 'Machop': 72, 'Magikarp': 73, 'Magmar': 74, 'Magnemite': 75, 'Magneton': 76, 'Mankey': 77, 'Marowak': 78, 'Meowth': 79, 'Metapod': 80, 'Mew': 81, 'Mewtwo': 82, 'Moltres': 83, 'Mr. Mime': 84, 'Muk': 85, 'Nidoking': 86, 'Nidoqueen': 87, 'NidoranF': 88, 'NidoranM': 89, 'Nidorina': 90, 'Nidorino': 91, 'Ninetales': 92, 'Oddish': 93, 'Omanyte': 94, 'Omastar': 95, 'Onix': 96, 'Paras': 97, 'Parasect': 98, 'Persian': 99, 'Pidgeot': 100, 'Pidgeotto': 101, 'Pidgey': 102, 'Pikachu': 103, 'Pinsir': 104, 'Poliwag': 105, 'Poliwhirl': 106, 'Poliwrath': 107, 'Ponyta': 108, 'Porygon': 109, 'Primeape': 110, 'Psyduck': 111, 'Raichu': 112, 'Rapidash': 113, 'Raticate': 114, 'Rattata': 115, 'Rhydon': 116, 'Rhyhorn': 117, 'Sandshrew': 118, 'Sandslash': 119, 'Scyther': 120, 'Seadra': 121, 'Seaking': 122, 'Seel': 123, 'Shellder': 124, 'Slowbro': 125, 'Slowpoke': 126, 'Snorlax': 127, 'Spearow': 128, 'Squirtle': 129, 'Starmie': 130, 'Staryu': 131, 'Tangela': 132, 'Tauros': 133, 'Tentacool': 134, 'Tentacruel': 135, 'Vaporeon': 136, 'Venomoth': 137, 'Venonat': 138, 'Venusaur': 139, 'Victreebel': 140, 'Vileplume': 141, 'Voltorb': 142, 'Vulpix': 143, 'Wartortle': 144, 'Weedle': 145, 'Weepinbell': 146, 'Weezing': 147, 'Wigglytuff': 148, 'Zapdos': 149, 'Zubat': 150}\n"
          ]
        }
      ],
      "source": [
        "# Générateur pour les données de validation\n",
        "validation_generator = train_datagen.flow_from_directory(\n",
        "    dataset_path,\n",
        "    target_size=output_image_size,\n",
        "    batch_size=batch_size,\n",
        "    class_mode='categorical',  # 'categorical' pour classification multi-classes\n",
        "    subset='validation'  # Sous-ensemble de validation\n",
        ")\n",
        "\n",
        "# Affichage des classes détectées\n",
        "print(\"Classes trouvées :\", train_generator.class_indices)"
      ]
    },
    {
      "cell_type": "markdown",
      "source": [
        "**Visualisation de l'equilibrage des classes de notre dataset**"
      ],
      "metadata": {
        "id": "ThK_XpsGD042"
      }
    },
    {
      "cell_type": "code",
      "source": [
        "from sklearn.utils import class_weight\n",
        "import numpy as np\n",
        "\n",
        "# Calculer les poids pour chaque classe\n",
        "class_weights = class_weight.compute_class_weight(\n",
        "    class_weight='balanced',  # Méthode pour équilibrer\n",
        "    classes=np.unique(train_generator.classes),  # Les classes présentes\n",
        "    y=train_generator.classes  # Distribution des classes\n",
        ")\n",
        "\n",
        "# Convertir les poids en dictionnaire\n",
        "class_weights = dict(enumerate(class_weights))\n",
        "print(\"Class weights :\", class_weights)\n"
      ],
      "metadata": {
        "colab": {
          "base_uri": "https://localhost:8080/"
        },
        "id": "v0KC2c39xboR",
        "outputId": "da109265-0519-487a-c7cf-dd0f527823f0"
      },
      "execution_count": 27,
      "outputs": [
        {
          "output_type": "stream",
          "name": "stdout",
          "text": [
            "Class weights : {0: 1.820364238410596, 1: 1.016017249345449, 2: 1.5886815171583384, 3: 0.9708609271523179, 4: 0.7801561021759698, 5: 0.8737748344370861, 6: 0.8737748344370861, 7: 0.9497552548229197, 8: 0.8483250819777535, 9: 0.5984759139980041, 10: 0.6934720908230843, 11: 0.8166119948010151, 12: 0.910182119205298, 13: 1.0402081362346263, 14: 0.7103860442577936, 15: 0.8737748344370861, 16: 1.1202241467142129, 17: 1.2306687808973042, 18: 1.2135761589403973, 19: 0.740487147828039, 20: 1.0922185430463576, 21: 1.2849629918192442, 22: 1.2849629918192442, 23: 1.1650331125827815, 24: 1.4324177613722724, 25: 1.0402081362346263, 26: 0.891606973915394, 27: 1.1202241467142129, 28: 1.1650331125827815, 29: 1.1202241467142129, 30: 0.9497552548229197, 31: 0.9197629836179854, 32: 1.016017249345449, 33: 1.6181015452538632, 34: 0.9817694768956023, 35: 1.1807768032933597, 36: 1.1807768032933597, 37: 1.1060440942241596, 38: 0.8401681100356597, 39: 0.9197629836179854, 40: 0.9708609271523179, 41: 1.2663403397638928, 42: 1.5065083352363553, 43: 1.1202241467142129, 44: 1.1202241467142129, 45: 0.9497552548229197, 46: 1.2306687808973042, 47: 1.1650331125827815, 48: 1.5329383060299755, 49: 0.7598042038583357, 50: 0.9497552548229197, 51: 1.1060440942241596, 52: 1.0787343635025755, 53: 1.0402081362346263, 54: 0.8826008428657435, 55: 1.480974295656078, 56: 0.929547696209666, 57: 0.8401681100356597, 58: 0.9197629836179854, 59: 1.3442689760570554, 60: 1.5603122043519395, 61: 1.4093142490920743, 62: 1.4324177613722724, 63: 1.1969518279960083, 64: 1.1497037295224817, 65: 1.4324177613722724, 66: 1.1807768032933597, 67: 1.5603122043519395, 68: 0.9395428327280496, 69: 1.2482497634815515, 70: 1.1497037295224817, 71: 1.2663403397638928, 72: 1.456291390728477, 73: 1.1807768032933597, 74: 1.456291390728477, 75: 1.0922185430463576, 76: 1.5603122043519395, 77: 1.2135761589403973, 78: 1.985851896447923, 79: 1.2849629918192442, 80: 1.0527407643820315, 81: 0.9929259482239615, 82: 1.2482497634815515, 83: 1.3239012642986152, 84: 1.7132839890923257, 85: 1.3442689760570554, 86: 1.2135761589403973, 87: 1.2135761589403973, 88: 3.4950993377483446, 89: 4.160832544938505, 90: 1.480974295656078, 91: 1.134772512255956, 92: 1.0527407643820315, 93: 1.0655790663866904, 94: 1.1969518279960083, 95: 1.1202241467142129, 96: 1.365273178807947, 97: 1.3442689760570554, 98: 1.0787343635025755, 99: 1.5065083352363553, 100: 1.1497037295224817, 101: 1.0043388901575703, 102: 1.016017249345449, 103: 0.5944046492769293, 104: 1.4093142490920743, 105: 0.910182119205298, 106: 1.016017249345449, 107: 1.3442689760570554, 108: 1.1969518279960083, 109: 1.3239012642986152, 110: 0.7532541676181777, 111: 1.0787343635025755, 112: 0.9708609271523179, 113: 1.2306687808973042, 114: 1.1969518279960083, 115: 1.2849629918192442, 116: 1.2482497634815515, 117: 1.365273178807947, 118: 1.016017249345449, 119: 1.2663403397638928, 120: 0.891606973915394, 121: 0.6721344880285277, 122: 0.9395428327280496, 123: 1.6181015452538632, 124: 0.910182119205298, 125: 1.3442689760570554, 126: 1.1650331125827815, 127: 0.8243158815444208, 128: 1.1650331125827815, 129: 0.3849228345537824, 130: 0.38662603293676373, 131: 0.8016282884743909, 132: 0.7871845355289064, 133: 0.6196984641397774, 134: 0.8401681100356597, 135: 0.7801561021759698, 136: 0.6619506321493076, 137: 0.8651235984525605, 138: 0.7598042038583357, 139: 0.6472406181015452, 140: 0.6934720908230843, 141: 0.6424814959096221, 142: 0.7046571245460371, 143: 0.6934720908230843, 144: 0.6826365894039735, 145: 0.7046571245460371, 146: 0.6934720908230843, 147: 0.7221279623446992, 148: 0.6424814959096221, 149: 0.5393671817512877, 150: 0.6990198675496688}\n"
          ]
        }
      ]
    },
    {
      "cell_type": "markdown",
      "source": [
        "**Extraction d'un Batch pour l'Entraînement et le Test**"
      ],
      "metadata": {
        "id": "RSFRR9jZD4n7"
      }
    },
    {
      "cell_type": "code",
      "source": [
        "# Extraire un batch pour l'entraînement\n",
        "x_train, y_train = next(train_generator)\n",
        "print(f\"x_train shape: {x_train.shape}, y_train shape: {y_train.shape}\")\n",
        "\n",
        "# Extraire un batch pour la validation\n",
        "x_test, y_test = next(validation_generator)\n",
        "print(f\"x_test shape: {x_test.shape}, y_test shape: {y_test.shape}\")\n",
        "\n"
      ],
      "metadata": {
        "colab": {
          "base_uri": "https://localhost:8080/"
        },
        "id": "6pf_GWzQhlK6",
        "outputId": "d4abfbfc-fed4-44df-eef8-d8fbc7d10168"
      },
      "execution_count": 28,
      "outputs": [
        {
          "output_type": "stream",
          "name": "stdout",
          "text": [
            "x_train shape: (32, 224, 224, 3), y_train shape: (32, 151)\n",
            "x_test shape: (32, 224, 224, 3), y_test shape: (32, 151)\n"
          ]
        }
      ]
    },
    {
      "cell_type": "code",
      "source": [
        "import numpy as np\n",
        "\n",
        "# Récupération de plusieurs lots pour l'entraînement et la validation\n",
        "num_batches = 20  # Augmenté de 5 à 20 pour inclure plus d'échantillons de toutes les classes\n",
        "x_train_batches = []\n",
        "y_train_batches = []\n",
        "x_val_batches = []\n",
        "y_val_batches = []\n",
        "\n",
        "# Boucle pour récupérer les lots\n",
        "for _ in range(num_batches):\n",
        "    # Récupération d'un lot d'entraînement\n",
        "    x_batch, y_batch = next(train_generator)\n",
        "    x_train_batches.append(x_batch)\n",
        "    y_train_batches.append(y_batch)\n",
        "\n",
        "    # Récupération d'un lot de validation\n",
        "    x_batch, y_batch = next(validation_generator)\n",
        "    x_val_batches.append(x_batch)\n",
        "    y_val_batches.append(y_batch)\n",
        "\n",
        "# Concaténation des lots pour former les ensembles d'entraînement et de validation\n",
        "x_train = np.concatenate(x_train_batches)\n",
        "y_train = np.concatenate(y_train_batches)\n",
        "x_test = np.concatenate(x_val_batches)\n",
        "y_test = np.concatenate(y_val_batches)\n",
        "\n",
        "# Maintenant, on peut procéder à la division train_test_split\n",
        "from sklearn.model_selection import train_test_split\n",
        "# Division des données en ensembles d'entraînement et de test\n",
        "x_train, x_test, y_train, y_test = train_test_split(\n",
        "     x_train, y_train, test_size=0.2, random_state=42\n",
        " )"
      ],
      "metadata": {
        "id": "uy6famgnhrGG"
      },
      "execution_count": 29,
      "outputs": []
    },
    {
      "cell_type": "markdown",
      "source": [
        "**CNN simple**"
      ],
      "metadata": {
        "id": "eCflJkGxD6qT"
      }
    },
    {
      "cell_type": "code",
      "source": [
        "import tensorflow as tf\n",
        "\n",
        "# Définition du modèle CNN\n",
        "model = tf.keras.Sequential([\n",
        "    # Entrée du modèle, taille des images (224, 224, 3)\n",
        "    tf.keras.layers.Input(shape=(224, 224, 3)),  # Couche d'entrée spécifiant la taille de l'image d'entrée (224x224 pixels, 3 canaux couleur)\n",
        "\n",
        "    # Première couche de convolution : 32 filtres, taille de filtre (5x5), activation ReLU\n",
        "    tf.keras.layers.Conv2D(32, (5, 5), strides=1, padding='same', activation='relu'),\n",
        "    # Extraction des caractéristiques locales avec 32 filtres de taille 5x5, \"same\" conserve la taille d'entrée.\n",
        "\n",
        "    # Première couche de pooling : réduction de la taille (2x2)\n",
        "    tf.keras.layers.MaxPooling2D(pool_size=(2, 2)),\n",
        "\n",
        "    # Réduit les dimensions spatiales de moitié (224x224 -> 112x112), conserve les caractéristiques principales.\n",
        "\n",
        "    # Deuxième couche de convolution : 64 filtres, taille de filtre (3x3), activation ReLU\n",
        "    tf.keras.layers.Conv2D(64, (3, 3), strides=1, padding='same', activation='relu'),\n",
        "    # Ajout de 64 filtres pour capturer des caractéristiques plus complexes.\n",
        "\n",
        "    # Deuxième couche de pooling : réduction de la taille (2x2)\n",
        "    tf.keras.layers.MaxPooling2D(pool_size=(2, 2)),\n",
        "    # Réduction supplémentaire des dimensions spatiales (112x112 -> 56x56).\n",
        "\n",
        "    # Troisième couche de convolution : 128 filtres, taille de filtre (3x3), activation ReLU\n",
        "    tf.keras.layers.Conv2D(128, (3, 3), strides=1, padding='same', activation='relu'),\n",
        "    # Capture des motifs plus complexes avec 128 filtres.\n",
        "\n",
        "    # Troisième couche de pooling : réduction de la taille (2x2)\n",
        "    tf.keras.layers.MaxPooling2D(pool_size=(2, 2)),\n",
        "    # Réduction finale des dimensions spatiales (56x56 -> 28x28).\n",
        "\n",
        "    # Couche Flatten : aplatissement des dimensions en un vecteur 1D\n",
        "    tf.keras.layers.Flatten(),\n",
        "    # Transforme la sortie 28x28x128 en un vecteur linéaire de 100352 pour la couche dense suivante.\n",
        "\n",
        "    # Première couche dense (Fully Connected Layer) : 256 neurones, activation ReLU\n",
        "    tf.keras.layers.Dense(256, activation='relu'),\n",
        "    # Combine toutes les caractéristiques pour apprendre des motifs complexes.\n",
        "\n",
        "    # Couche Dropout : désactivation aléatoire de 50% des neurones pour éviter le surapprentissage\n",
        "    tf.keras.layers.Dropout(0.5),\n",
        "    # Améliore la généralisation du modèle en désactivant des neurones de manière aléatoire.\n",
        "\n",
        "    # Dernière couche dense : nombre de sorties égal au nombre de classes, activation softmax\n",
        "    tf.keras.layers.Dense(len(train_generator.class_indices), activation='softmax')\n",
        "    # Prédiction des probabilités pour chaque classe (classification multi-classes).\n",
        "])\n"
      ],
      "metadata": {
        "id": "0Bvajk2Zh_n9"
      },
      "execution_count": 30,
      "outputs": []
    },
    {
      "cell_type": "markdown",
      "source": [
        "**Fonction Train :Entrainement du modele**"
      ],
      "metadata": {
        "id": "-sqoy37iD9O-"
      }
    },
    {
      "cell_type": "code",
      "source": [
        "from tensorflow.keras.utils import to_categorical\n",
        "\n",
        "def train_CNN(model, x_train, y_train, x_test, y_test):\n",
        "    \"\"\"\n",
        "    Fonction pour entraîner et évaluer un modèle CNN.\n",
        "    Arguments :\n",
        "        - model : modèle CNN à entraîner\n",
        "        - x_train : données d'entraînement (images sous forme de tenseurs)\n",
        "        - y_train : labels d'entraînement (one-hot encoded ou entiers)\n",
        "        - x_test : données de test (images sous forme de tenseurs)\n",
        "        - y_test : labels de test (one-hot encoded ou entiers)\n",
        "    Retourne :\n",
        "        - history : historique d'entraînement (contient les métriques pour chaque époque)\n",
        "        - test_loss : perte calculée sur l'ensemble de test\n",
        "        - test_accuracy : précision calculée sur l'ensemble de test\n",
        "    \"\"\"\n",
        "\n",
        "    # Étape 1 : Conversion des labels en one-hot encoding\n",
        "    num_classes = model.output_shape[-1]  # Nombre de classes que le modèle doit prédire\n",
        "\n",
        "    # Redimensionner y_train et y_test si nécessaire\n",
        "    y_train = y_train.reshape(-1) # Redimensionner en tableau 1D avant l'encodage one-hot\n",
        "    y_test = y_test.reshape(-1) # Redimensionner en tableau 1D avant l'encodage one-hot\n",
        "\n",
        "    y_train = to_categorical(y_train, num_classes=num_classes)  # Encodage des labels d'entraînement\n",
        "    y_test = to_categorical(y_test, num_classes=num_classes)  # Encodage des labels de test\n",
        "\n",
        "    # Étape 2 : Compilation du modèle\n",
        "    # Initialisation de l'optimiseur avec un taux d'apprentissage ajusté\n",
        "    optimizer = tf.keras.optimizers.Adam(learning_rate=0.0001)\n",
        "    # Compilation du modèle avec la fonction de perte et les métriques\n",
        "    model.compile(\n",
        "        optimizer=optimizer,\n",
        "        loss='categorical_crossentropy',  # Fonction de perte adaptée à une classification multi-classes\n",
        "        metrics=['accuracy']  # Métrique pour suivre la précision pendant l'entraînement\n",
        "    )\n",
        "\n",
        "    print(\"\\n=== Début de l'entraînement du modèle CNN ===\\n\")\n",
        "\n",
        "    # Étape 3 : Entraînement du modèle\n",
        "    # Le modèle apprend à partir des données d'entraînement et évalue sa performance sur une fraction de validation\n",
        "    history = model.fit(\n",
        "        x_train, y_train,  # Données d'entraînement\n",
        "        epochs=20,  # Nombre d'époques (passages sur tout le dataset)\n",
        "        batch_size=32,  # Nombre d'images traitées à chaque mise à jour des poids\n",
        "        validation_split=0.2,  # Utiliser 20 % de x_train pour la validation\n",
        "        verbose=2  # Niveau d'affichage des logs (2 = résumé par époque)\n",
        "    )\n",
        "    return history, test_loss, test_accuracy\n"
      ],
      "metadata": {
        "id": "eSBJUfN6iKW1"
      },
      "execution_count": 36,
      "outputs": []
    },
    {
      "cell_type": "code",
      "source": [
        "history = train_CNN(model, x_train, y_train, x_test, y_test)\n"
      ],
      "metadata": {
        "colab": {
          "base_uri": "https://localhost:8080/"
        },
        "id": "pydUue3_iQ5F",
        "outputId": "c6386a6d-0401-4c24-f65f-afa06a4eedf6"
      },
      "execution_count": 37,
      "outputs": [
        {
          "output_type": "stream",
          "name": "stdout",
          "text": [
            "\n",
            "=== Début de l'entraînement du modèle CNN ===\n",
            "\n",
            "Epoch 1/20\n",
            "13/13 - 72s - 6s/step - accuracy: 0.9951 - loss: 0.0143 - val_accuracy: 0.9903 - val_loss: 0.1716\n",
            "Epoch 2/20\n",
            "13/13 - 67s - 5s/step - accuracy: 0.9976 - loss: 0.0049 - val_accuracy: 0.9903 - val_loss: 0.1185\n",
            "Epoch 3/20\n",
            "13/13 - 83s - 6s/step - accuracy: 0.9951 - loss: 0.0067 - val_accuracy: 0.9903 - val_loss: 0.1312\n",
            "Epoch 4/20\n",
            "13/13 - 82s - 6s/step - accuracy: 1.0000 - loss: 0.0016 - val_accuracy: 0.9903 - val_loss: 0.1540\n",
            "Epoch 5/20\n",
            "13/13 - 81s - 6s/step - accuracy: 0.9976 - loss: 0.0037 - val_accuracy: 0.9903 - val_loss: 0.1606\n",
            "Epoch 6/20\n",
            "13/13 - 85s - 7s/step - accuracy: 1.0000 - loss: 0.0014 - val_accuracy: 0.9903 - val_loss: 0.1715\n",
            "Epoch 7/20\n",
            "13/13 - 67s - 5s/step - accuracy: 1.0000 - loss: 2.6513e-04 - val_accuracy: 0.9903 - val_loss: 0.1819\n",
            "Epoch 8/20\n",
            "13/13 - 81s - 6s/step - accuracy: 1.0000 - loss: 6.1478e-04 - val_accuracy: 0.9903 - val_loss: 0.1968\n",
            "Epoch 9/20\n",
            "13/13 - 81s - 6s/step - accuracy: 1.0000 - loss: 9.8490e-05 - val_accuracy: 0.9903 - val_loss: 0.2095\n",
            "Epoch 10/20\n",
            "13/13 - 88s - 7s/step - accuracy: 1.0000 - loss: 1.1626e-04 - val_accuracy: 0.9903 - val_loss: 0.2132\n",
            "Epoch 11/20\n",
            "13/13 - 76s - 6s/step - accuracy: 1.0000 - loss: 4.4812e-05 - val_accuracy: 0.9903 - val_loss: 0.2159\n",
            "Epoch 12/20\n",
            "13/13 - 82s - 6s/step - accuracy: 1.0000 - loss: 1.8797e-05 - val_accuracy: 0.9903 - val_loss: 0.2171\n",
            "Epoch 13/20\n",
            "13/13 - 67s - 5s/step - accuracy: 1.0000 - loss: 7.4307e-05 - val_accuracy: 0.9903 - val_loss: 0.2183\n",
            "Epoch 14/20\n",
            "13/13 - 81s - 6s/step - accuracy: 1.0000 - loss: 3.9028e-05 - val_accuracy: 0.9903 - val_loss: 0.2189\n",
            "Epoch 15/20\n",
            "13/13 - 82s - 6s/step - accuracy: 1.0000 - loss: 1.1946e-04 - val_accuracy: 0.9903 - val_loss: 0.2194\n",
            "Epoch 16/20\n",
            "13/13 - 67s - 5s/step - accuracy: 1.0000 - loss: 8.0690e-05 - val_accuracy: 0.9903 - val_loss: 0.2199\n",
            "Epoch 17/20\n",
            "13/13 - 73s - 6s/step - accuracy: 1.0000 - loss: 1.5984e-05 - val_accuracy: 0.9903 - val_loss: 0.2211\n",
            "Epoch 18/20\n",
            "13/13 - 75s - 6s/step - accuracy: 1.0000 - loss: 9.0894e-05 - val_accuracy: 0.9903 - val_loss: 0.2235\n",
            "Epoch 19/20\n",
            "13/13 - 68s - 5s/step - accuracy: 1.0000 - loss: 1.0258e-04 - val_accuracy: 0.9903 - val_loss: 0.2245\n",
            "Epoch 20/20\n",
            "13/13 - 82s - 6s/step - accuracy: 1.0000 - loss: 2.2524e-05 - val_accuracy: 0.9903 - val_loss: 0.2277\n"
          ]
        }
      ]
    },
    {
      "cell_type": "markdown",
      "source": [
        "**Évaluation du modèle sur l'ensemble de test**"
      ],
      "metadata": {
        "id": "TwDaNkHoEGvH"
      }
    },
    {
      "cell_type": "code",
      "source": [
        "print(\"\\n=== Évaluation du modèle sur l'ensemble de test ===\\n\")\n",
        "\n",
        "# Étape 4 : Évaluation finale sur les données de test\n",
        "# Calcul de la perte et de la précision sur des données non vues (x_test et y_test)\n",
        "test_loss, test_accuracy = model.evaluate(x_test, y_test, verbose=2)\n",
        "print(f\"Accuracy sur l'ensemble de test : {test_accuracy * 100:.2f}%\")  # Affiche la précision finale\n",
        "print(f\"Perte sur l'ensemble de test : {test_loss:.4f}\")  # Affiche la perte finale"
      ],
      "metadata": {
        "colab": {
          "base_uri": "https://localhost:8080/"
        },
        "id": "tRRINY9jtKRM",
        "outputId": "e68a77a5-030a-43e4-aeba-166f56b8bbc7"
      },
      "execution_count": 38,
      "outputs": [
        {
          "output_type": "stream",
          "name": "stdout",
          "text": [
            "\n",
            "=== Évaluation du modèle sur l'ensemble de test ===\n",
            "\n",
            "4/4 - 6s - 1s/step - accuracy: 0.0078 - loss: 44.0573\n",
            "Accuracy sur l'ensemble de test : 0.78%\n",
            "Perte sur l'ensemble de test : 44.0573\n"
          ]
        }
      ]
    },
    {
      "cell_type": "markdown",
      "source": [
        "**Sauvegarder le modèle final**\n"
      ],
      "metadata": {
        "id": "olXUnH2REDCp"
      }
    },
    {
      "cell_type": "code",
      "source": [
        "\n",
        "model.save('CNN Simple_modele_entraine.keras')\n",
        "print(\"Le modèle a été sauvegardé sous le nom : NN Simple_modele_entraine.h5\")"
      ],
      "metadata": {
        "colab": {
          "base_uri": "https://localhost:8080/"
        },
        "id": "2fl04hIwCEbp",
        "outputId": "97a00f31-7d8b-48d7-eccc-ff6e671268a8"
      },
      "execution_count": 41,
      "outputs": [
        {
          "output_type": "stream",
          "name": "stdout",
          "text": [
            "Le modèle a été sauvegardé sous le nom : NN Simple_modele_entraine.h5\n"
          ]
        }
      ]
    },
    {
      "cell_type": "markdown",
      "source": [
        "**Visualisation des courbes de perte et d'accuracy**\n"
      ],
      "metadata": {
        "id": "xY38G2ebEQeL"
      }
    },
    {
      "cell_type": "code",
      "source": [
        "def plot_training_curves(history):\n",
        "    \"\"\"\n",
        "    Visualise les courbes de perte et de précision pour l'entraînement et la validation.\n",
        "\n",
        "    Arguments :\n",
        "        - history : historique de l'entraînement (souvent le premier élément du tuple).\n",
        "    \"\"\"\n",
        "    # Extraction des données d'historique\n",
        "    loss = history['loss']\n",
        "    val_loss = history['val_loss']\n",
        "    accuracy = history['accuracy']\n",
        "    val_accuracy = history['val_accuracy']\n",
        "\n",
        "    # Création des courbes de perte\n",
        "    plt.figure(figsize=(12, 6))\n",
        "    plt.subplot(1, 2, 1)\n",
        "    plt.plot(loss, label='Perte Entraînement')\n",
        "    plt.plot(val_loss, label='Perte Validation')\n",
        "    plt.title('Courbe de Perte')\n",
        "    plt.xlabel('Époques')\n",
        "    plt.ylabel('Perte')\n",
        "    plt.legend()\n",
        "\n",
        "    # Création des courbes de précision\n",
        "    plt.subplot(1, 2, 2)\n",
        "    plt.plot(accuracy, label='Précision Entraînement')\n",
        "    plt.plot(val_accuracy, label='Précision Validation')\n",
        "    plt.title('Courbe de Précision')\n",
        "    plt.xlabel('Époques')\n",
        "    plt.ylabel('Précision')\n",
        "    plt.legend()\n",
        "\n",
        "    plt.tight_layout()\n",
        "    plt.show()\n"
      ],
      "metadata": {
        "id": "2MBt1jLRiNN9"
      },
      "execution_count": 52,
      "outputs": []
    },
    {
      "cell_type": "code",
      "source": [
        "training_history: tf.keras.callbacks.History = history[0]\n",
        "plot_training_curves(training_history.history)\n"
      ],
      "metadata": {
        "colab": {
          "base_uri": "https://localhost:8080/",
          "height": 348
        },
        "id": "Snf2clyhG_8m",
        "outputId": "482b376d-3d8c-4640-862d-919fb09ba9d6"
      },
      "execution_count": 54,
      "outputs": [
        {
          "output_type": "display_data",
          "data": {
            "text/plain": [
              "<Figure size 1200x600 with 2 Axes>"
            ],
            "image/png": "[encoded data removed]"
          },
          "metadata": {}
        }
      ]
    }
  ]
}